{
 "cells": [
  {
   "cell_type": "code",
   "execution_count": 22,
   "metadata": {},
   "outputs": [
    {
     "data": {
      "text/plain": [
       "True"
      ]
     },
     "execution_count": 22,
     "metadata": {},
     "output_type": "execute_result"
    }
   ],
   "source": [
    "import pandas as pd\n",
    "import numpy as np\n",
    "import seaborn as sns\n",
    "import matplotlib.pyplot as plt\n",
    "import re\n",
    "import nltk\n",
    "from nltk.corpus import stopwords\n",
    "from nltk.corpus import wordnet\n",
    "from nltk.stem import WordNetLemmatizer,PorterStemmer\n",
    "from nltk.wsd import lesk\n",
    "from nltk.tokenize import word_tokenize\n",
    "from sklearn.feature_extraction.text import TfidfVectorizer\n",
    "from sklearn.model_selection import train_test_split\n",
    "from sklearn.preprocessing import LabelEncoder,label_binarize\n",
    "from itertools import cycle\n",
    "from sklearn.metrics import accuracy_score, confusion_matrix, classification_report,roc_curve, auc\n",
    "from sklearn.naive_bayes import MultinomialNB,ComplementNB\n",
    "from wordcloud import WordCloud\n",
    "from imblearn.over_sampling import SMOTE\n",
    "from sklearn.model_selection import GridSearchCV\n",
    "import tensorflow as tf\n",
    "from tensorflow import keras\n",
    "from imblearn.under_sampling import RandomUnderSampler\n",
    "from sklearn import svm\n",
    "from sklearn.ensemble import RandomForestClassifier\n",
    "from sklearn.linear_model import LogisticRegression\n",
    "nltk.download('stopwords',quiet=True)\n",
    "nltk.download('wordnet',quiet=True)\n",
    "nltk.download('punkt',quiet=True)"
   ]
  },
  {
   "cell_type": "code",
   "execution_count": 2,
   "metadata": {},
   "outputs": [],
   "source": [
    "#thsi code is used to hide the warning messages\n",
    "pd.options.mode.chained_assignment = None"
   ]
  },
  {
   "cell_type": "markdown",
   "metadata": {},
   "source": [
    "## Exploratory Data Analysis"
   ]
  },
  {
   "cell_type": "code",
   "execution_count": null,
   "metadata": {},
   "outputs": [],
   "source": [
    "df=pd.read_csv('Tweets.csv')\n",
    "df.head()"
   ]
  },
  {
   "cell_type": "code",
   "execution_count": null,
   "metadata": {},
   "outputs": [],
   "source": [
    "df.info()"
   ]
  },
  {
   "cell_type": "code",
   "execution_count": null,
   "metadata": {},
   "outputs": [],
   "source": [
    "df.isnull().sum()"
   ]
  },
  {
   "cell_type": "markdown",
   "metadata": {},
   "source": [
    "Require column for model don't have null values , so we are not going to fill null values."
   ]
  },
  {
   "cell_type": "code",
   "execution_count": null,
   "metadata": {},
   "outputs": [],
   "source": [
    "df_sorted = df.sort_values('airline_sentiment')\n",
    "order=['negative','neutral','positive']\n",
    "sns.countplot(x='airline_sentiment',data=df,order=order,palette='Set1')\n",
    "plt.show()"
   ]
  },
  {
   "cell_type": "markdown",
   "metadata": {},
   "source": [
    "Negative tweet count is much higher than neutral and positive"
   ]
  },
  {
   "cell_type": "code",
   "execution_count": 4,
   "metadata": {},
   "outputs": [
    {
     "data": {
      "text/html": [
       "<div>\n",
       "<style scoped>\n",
       "    .dataframe tbody tr th:only-of-type {\n",
       "        vertical-align: middle;\n",
       "    }\n",
       "\n",
       "    .dataframe tbody tr th {\n",
       "        vertical-align: top;\n",
       "    }\n",
       "\n",
       "    .dataframe thead th {\n",
       "        text-align: right;\n",
       "    }\n",
       "</style>\n",
       "<table border=\"1\" class=\"dataframe\">\n",
       "  <thead>\n",
       "    <tr style=\"text-align: right;\">\n",
       "      <th></th>\n",
       "      <th>airline_sentiment</th>\n",
       "      <th>text</th>\n",
       "    </tr>\n",
       "  </thead>\n",
       "  <tbody>\n",
       "    <tr>\n",
       "      <th>0</th>\n",
       "      <td>neutral</td>\n",
       "      <td>@VirginAmerica What @dhepburn said.</td>\n",
       "    </tr>\n",
       "    <tr>\n",
       "      <th>1</th>\n",
       "      <td>positive</td>\n",
       "      <td>@VirginAmerica plus you've added commercials t...</td>\n",
       "    </tr>\n",
       "    <tr>\n",
       "      <th>2</th>\n",
       "      <td>neutral</td>\n",
       "      <td>@VirginAmerica I didn't today... Must mean I n...</td>\n",
       "    </tr>\n",
       "    <tr>\n",
       "      <th>3</th>\n",
       "      <td>negative</td>\n",
       "      <td>@VirginAmerica it's really aggressive to blast...</td>\n",
       "    </tr>\n",
       "    <tr>\n",
       "      <th>4</th>\n",
       "      <td>negative</td>\n",
       "      <td>@VirginAmerica and it's a really big bad thing...</td>\n",
       "    </tr>\n",
       "  </tbody>\n",
       "</table>\n",
       "</div>"
      ],
      "text/plain": [
       "  airline_sentiment                                               text\n",
       "0           neutral                @VirginAmerica What @dhepburn said.\n",
       "1          positive  @VirginAmerica plus you've added commercials t...\n",
       "2           neutral  @VirginAmerica I didn't today... Must mean I n...\n",
       "3          negative  @VirginAmerica it's really aggressive to blast...\n",
       "4          negative  @VirginAmerica and it's a really big bad thing..."
      ]
     },
     "execution_count": 4,
     "metadata": {},
     "output_type": "execute_result"
    }
   ],
   "source": [
    "#selecting only columns needed for sentiment analysis\n",
    "df_sa=df[['airline_sentiment','text']]\n",
    "df_sa.head()"
   ]
  },
  {
   "cell_type": "code",
   "execution_count": 8,
   "metadata": {},
   "outputs": [
    {
     "name": "stdout",
     "output_type": "stream",
     "text": [
      "min=12,mean=104,max=186\n"
     ]
    }
   ],
   "source": [
    "tweet_leanght=df['text'].apply(len)\n",
    "print(f'min={min(tweet_leanght)},mean={round(np.mean(tweet_leanght))},max={max(tweet_leanght)}')"
   ]
  },
  {
   "cell_type": "code",
   "execution_count": 5,
   "metadata": {},
   "outputs": [],
   "source": [
    "#defining a function to clean the tweets\n",
    "def preprocessing(text):\n",
    "    #remove url\n",
    "    text=re.sub(r'http\\S+|www\\S+|https\\S+','',text,flags=re.MULTILINE)\n",
    "    #remove user @ references and '#' from tweet\n",
    "    text=re.sub(r'\\@\\w+|\\#','',text)\n",
    "    #removing every thing expect alphbets\n",
    "    text=re.sub(r'[^a-zA-Z]',' ',text)\n",
    "    \n",
    "    text=text.lower()\n",
    "    tokenized_text=word_tokenize(text)\n",
    "    \n",
    "    #remove stopwords\n",
    "    stopword=stopwords.words('english')\n",
    "    tokenized_text=[word for word in tokenized_text if word not in stopword]\n",
    "    \n",
    "    # lematizing the words\n",
    "    lem=WordNetLemmatizer()\n",
    "    tokenized_text=[lem.lemmatize(word) for word in tokenized_text]\n",
    "    \n",
    "    #using lest to diambuiguate the words\n",
    "    tokenized_text = [\n",
    "    (lesk(tokenized_text, word).lemmas()[0].name()\n",
    "    if lesk(tokenized_text, word) else word)\n",
    "    for word in tokenized_text\n",
    "    ]\n",
    "    \n",
    "    text=' '.join(tokenized_text)\n",
    "    return text"
   ]
  },
  {
   "cell_type": "code",
   "execution_count": 6,
   "metadata": {},
   "outputs": [],
   "source": [
    "df_sa['text']=df_sa['text'].apply(preprocessing)\n",
    "#df_sa.head()"
   ]
  },
  {
   "cell_type": "code",
   "execution_count": 91,
   "metadata": {},
   "outputs": [
    {
     "data": {
      "text/plain": [
       "915946"
      ]
     },
     "execution_count": 91,
     "metadata": {},
     "output_type": "execute_result"
    }
   ],
   "source": [
    "count=sum(df_sa['text'].apply(len))\n",
    "count"
   ]
  },
  {
   "cell_type": "markdown",
   "metadata": {},
   "source": [
    "### Now we will Create model for Sentiment analysis"
   ]
  },
  {
   "cell_type": "code",
   "execution_count": 154,
   "metadata": {},
   "outputs": [
    {
     "data": {
      "text/plain": [
       "negative    9178\n",
       "neutral     3099\n",
       "positive    2363\n",
       "Name: airline_sentiment, dtype: int64"
      ]
     },
     "execution_count": 154,
     "metadata": {},
     "output_type": "execute_result"
    }
   ],
   "source": [
    "df_sa['airline_sentiment'].value_counts()"
   ]
  },
  {
   "cell_type": "code",
   "execution_count": 7,
   "metadata": {},
   "outputs": [],
   "source": [
    "x=df_sa['text']\n",
    "y=df_sa['airline_sentiment']"
   ]
  },
  {
   "cell_type": "code",
   "execution_count": 8,
   "metadata": {},
   "outputs": [],
   "source": [
    "#comment tfidf for running nueral network\n",
    "verctorizer=TfidfVectorizer(max_features=18000)\n",
    "x=verctorizer.fit_transform(x)\n",
    "\n",
    "LabelEncoder_y=LabelEncoder()\n",
    "y=LabelEncoder_y.fit_transform(y)\n"
   ]
  },
  {
   "cell_type": "markdown",
   "metadata": {},
   "source": [
    "accuracey with all preprocessing steps ,smote and complement naive bayes=79,MultinomialNB=78\n",
    "adjusting hyperparameter in cNA results by 1 point\n",
    "\n",
    "adjusting word count in tfidf improving results maybe work in progress 18000 give best results 80-81% accuracey\n",
    "\n",
    "\n",
    "accuracey when not using disambiguate is almost same\n",
    "\n",
    "changing lematize with stemer reduce accuracey\n",
    "\n",
    "Try nural network with embedding layer\n",
    "\n",
    "\n"
   ]
  },
  {
   "cell_type": "code",
   "execution_count": 16,
   "metadata": {},
   "outputs": [],
   "source": [
    "# Oversample the minority classes(positive and neutral) using SMOTE\n",
    "method = SMOTE()\n",
    "\n",
    "# Create the resampled feature set\n",
    "x, y = method.fit_resample(x, y)"
   ]
  },
  {
   "cell_type": "code",
   "execution_count": null,
   "metadata": {},
   "outputs": [],
   "source": [
    "#Eithor use this or the above code\n",
    "\n",
    "# Instantiate the RandomUnderSampler method\n",
    "undersample = RandomUnderSampler()\n",
    "\n",
    "# Create the resampled feature set\n",
    "x, y = undersample.fit_resample(x, y)"
   ]
  },
  {
   "cell_type": "code",
   "execution_count": 17,
   "metadata": {},
   "outputs": [],
   "source": [
    "x_train,x_test,y_train,y_test=train_test_split(x,y,test_size=0.2,random_state=28)"
   ]
  },
  {
   "cell_type": "code",
   "execution_count": 18,
   "metadata": {},
   "outputs": [
    {
     "name": "stdout",
     "output_type": "stream",
     "text": [
      "              precision    recall  f1-score   support\n",
      "\n",
      "           0       0.76      0.84      0.80      1758\n",
      "           1       0.83      0.70      0.76      1915\n",
      "           2       0.84      0.89      0.87      1834\n",
      "\n",
      "    accuracy                           0.81      5507\n",
      "   macro avg       0.81      0.81      0.81      5507\n",
      "weighted avg       0.81      0.81      0.81      5507\n",
      "\n"
     ]
    }
   ],
   "source": [
    "classifier=ComplementNB(alpha=0.5, fit_prior=True, class_prior=None,norm=False)\n",
    "classifier.fit(x_train,y_train)\n",
    "y_pred=classifier.predict(x_test)\n",
    "\n",
    "print(classification_report(y_test,y_pred))\n"
   ]
  },
  {
   "cell_type": "code",
   "execution_count": 19,
   "metadata": {},
   "outputs": [
    {
     "name": "stdout",
     "output_type": "stream",
     "text": [
      "              precision    recall  f1-score   support\n",
      "\n",
      "           0       0.75      0.83      0.79      1758\n",
      "           1       0.80      0.72      0.76      1915\n",
      "           2       0.86      0.87      0.87      1834\n",
      "\n",
      "    accuracy                           0.81      5507\n",
      "   macro avg       0.81      0.81      0.80      5507\n",
      "weighted avg       0.81      0.81      0.80      5507\n",
      "\n"
     ]
    }
   ],
   "source": [
    "classifier2=MultinomialNB(alpha=0.5, fit_prior=False, class_prior=None)\n",
    "classifier2.fit(x_train,y_train)\n",
    "y_pred=classifier2.predict(x_test)\n",
    "\n",
    "print(classification_report(y_test,y_pred))"
   ]
  },
  {
   "cell_type": "code",
   "execution_count": 21,
   "metadata": {},
   "outputs": [],
   "source": [
    "def apply_model(model, params, x_train, y_train, x_test, y_test):\n",
    "    grid_search = GridSearchCV(model, params, cv=5)\n",
    "    grid_search.fit(x_train, y_train)\n",
    "    y_pred = grid_search.predict(x_test)\n",
    "    print(f\"Best parameters: {grid_search.best_params_}\")\n",
    "    print(f\"Classification report:\\n{classification_report(y_test, y_pred)}\")\n",
    "    print(f\"Accuracy: {accuracy_score(y_test, y_pred)}\\n\")"
   ]
  },
  {
   "cell_type": "code",
   "execution_count": 23,
   "metadata": {},
   "outputs": [
    {
     "name": "stdout",
     "output_type": "stream",
     "text": [
      "SVM:\n",
      "Best parameters: {'C': 10, 'kernel': 'rbf'}\n",
      "Classification report:\n",
      "              precision    recall  f1-score   support\n",
      "\n",
      "           0       0.89      0.92      0.91      1758\n",
      "           1       0.87      0.88      0.87      1915\n",
      "           2       0.93      0.88      0.91      1834\n",
      "\n",
      "    accuracy                           0.89      5507\n",
      "   macro avg       0.90      0.90      0.90      5507\n",
      "weighted avg       0.90      0.89      0.89      5507\n",
      "\n",
      "Accuracy: 0.894679498819684\n",
      "\n",
      "Random Forest:\n"
     ]
    }
   ],
   "source": [
    "# SVM\n",
    "print(\"SVM:\")\n",
    "apply_model(svm.SVC(), {'C': [0.1, 1, 10], 'kernel': ['linear', 'rbf']}, x_train, y_train, x_test, y_test)\n",
    "\n",
    "# Random Forest\n",
    "print(\"Random Forest:\")\n",
    "apply_model(RandomForestClassifier(), {'n_estimators': [100, 200, 500], 'max_depth': [None, 10, 20, 30]}, x_train, y_train, x_test, y_test)\n",
    "\n",
    "# Logistic Regression\n",
    "print(\"Logistic Regression:\")\n",
    "apply_model(LogisticRegression(), {'C': [0.1, 1, 10]}, x_train, y_train, x_test, y_test)"
   ]
  },
  {
   "cell_type": "code",
   "execution_count": null,
   "metadata": {},
   "outputs": [],
   "source": [
    "classifier3=svm.SVC(C=10,kernel='rbf')\n",
    "classifier3.fit(x_train,y_train)\n",
    "y_pred=classifier3.predict(x_test)\n",
    "\n",
    "print(classification_report(y_test,y_pred))"
   ]
  },
  {
   "cell_type": "code",
   "execution_count": 185,
   "metadata": {},
   "outputs": [],
   "source": [
    "#Creating Tokenizer\n",
    "tokenizer =keras.preprocessing.text.Tokenizer(num_words=18000)\n",
    "tokenizer.fit_on_texts(x_train)\n",
    "\n",
    "#Converting text to sequence integers\n",
    "X_train=tokenizer.texts_to_sequences(x_train)\n",
    "X_test=tokenizer.texts_to_sequences(x_test)\n",
    "\n",
    "# Pad sequences to ensure they have the same length\n",
    "max_sequence_length=100\n",
    "X_train=keras.preprocessing.sequence.pad_sequences(X_train,maxlen=max_sequence_length, padding='post', truncating='post')\n",
    "X_test=keras.preprocessing.sequence.pad_sequences(X_test, maxlen=max_sequence_length, padding='post', truncating='post')"
   ]
  },
  {
   "cell_type": "code",
   "execution_count": 190,
   "metadata": {},
   "outputs": [],
   "source": [
    "#creating nureal network\n",
    "#Embedding layer used to learn and represent words or categorical data in a continuous, lower-dimensional space especially used in NLP.\n",
    "model = keras.Sequential([\n",
    "    keras.layers.Embedding(input_dim=18000, output_dim=32),\n",
    "    keras.layers.GlobalAveragePooling1D(),\n",
    "    keras.layers.Dense(64, activation='relu'),\n",
    "    keras.layers.Dropout(0.5),\n",
    "    keras.layers.Dense(32, activation='relu'),\n",
    "    keras.layers.Dropout(0.5),\n",
    "    keras.layers.Dense(1, activation='sigmoid')\n",
    "])\n",
    "\n",
    "model.compile(optimizer=keras.optimizers.Adam(learning_rate=0.001), \n",
    "              loss='binary_crossentropy', \n",
    "              metrics=['accuracy'])\n",
    "\n",
    "\n",
    "#Binary Cross-Entropy = - [y * log(p) + (1 - y) * log(1 - p)] >>y true label(0,1) , p is predicted probability\n",
    "#This loss function is used for binary classification especially with sigmoid"
   ]
  },
  {
   "cell_type": "code",
   "execution_count": null,
   "metadata": {},
   "outputs": [],
   "source": [
    "model.fit(X_train,y_train,epochs=50,validation_data=(X_test,y_test))"
   ]
  },
  {
   "cell_type": "code",
   "execution_count": 192,
   "metadata": {},
   "outputs": [
    {
     "name": "stdout",
     "output_type": "stream",
     "text": [
      "92/92 [==============================] - 0s 2ms/step - loss: -398952.8750 - accuracy: 0.6130\n",
      "Test Accuracy: 0.6130464673042297\n"
     ]
    }
   ],
   "source": [
    "test_loss, test_accuracy = model.evaluate(X_test, y_test)\n",
    "print(\"Test Accuracy:\", test_accuracy)"
   ]
  },
  {
   "cell_type": "code",
   "execution_count": 159,
   "metadata": {},
   "outputs": [],
   "source": [
    "def predict_sentiment(text):\n",
    "    text=preprocessing(text)\n",
    "    text=verctorizer.transform([text])\n",
    "    sentiment=classifier.predict(text)\n",
    "    sentiment=LabelEncoder_y.inverse_transform(sentiment)\n",
    "    return sentiment"
   ]
  },
  {
   "cell_type": "code",
   "execution_count": 168,
   "metadata": {},
   "outputs": [],
   "source": [
    "def plot_probabilities(text):\n",
    "    text=preprocessing(text)\n",
    "    text=verctorizer.transform([text])\n",
    "    probabilities=classifier.predict_proba(text)\n",
    "    labels = LabelEncoder_y.classes_\n",
    "    index = np.arange(len(labels))\n",
    "    plt.bar(index, probabilities[0])\n",
    "    plt.xlabel('Class')\n",
    "    plt.ylabel('Probability')\n",
    "    plt.xticks(index, labels, rotation=30)\n",
    "    plt.title('Probability of Each Class')\n",
    "    plt.show()"
   ]
  },
  {
   "cell_type": "code",
   "execution_count": 172,
   "metadata": {},
   "outputs": [
    {
     "data": {
      "image/png": "[encoded data removed]",
      "text/plain": [
       "<Figure size 640x480 with 1 Axes>"
      ]
     },
     "metadata": {},
     "output_type": "display_data"
    },
    {
     "name": "stdout",
     "output_type": "stream",
     "text": [
      "None\n"
     ]
    }
   ],
   "source": [
    "text=\"@virginamerica Well, I didn'tâ€¦but NOW I DO! :-D\"\n",
    "print(plot_probabilities(text))"
   ]
  }
 ],
 "metadata": {
  "kernelspec": {
   "display_name": "Python 3",
   "language": "python",
   "name": "python3"
  },
  "language_info": {
   "codemirror_mode": {
    "name": "ipython",
    "version": 3
   },
   "file_extension": ".py",
   "mimetype": "text/x-python",
   "name": "python",
   "nbconvert_exporter": "python",
   "pygments_lexer": "ipython3",
   "version": "3.11.1"
  }
 },
 "nbformat": 4,
 "nbformat_minor": 2
}
