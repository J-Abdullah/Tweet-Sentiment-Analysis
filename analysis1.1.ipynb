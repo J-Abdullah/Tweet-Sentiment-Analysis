{
 "cells": [
  {
   "cell_type": "code",
   "execution_count": 1,
   "metadata": {},
   "outputs": [
    {
     "data": {
      "text/plain": [
       "True"
      ]
     },
     "execution_count": 1,
     "metadata": {},
     "output_type": "execute_result"
    }
   ],
   "source": [
    "import pandas as pd\n",
    "import numpy as np\n",
    "import seaborn as sns\n",
    "import matplotlib.pyplot as plt\n",
    "import re\n",
    "import nltk\n",
    "from nltk.corpus import stopwords\n",
    "from nltk.corpus import wordnet\n",
    "from nltk.stem import WordNetLemmatizer,PorterStemmer\n",
    "from nltk.wsd import lesk\n",
    "from nltk.tokenize import word_tokenize\n",
    "from sklearn.feature_extraction.text import TfidfVectorizer\n",
    "from sklearn.model_selection import train_test_split\n",
    "from sklearn.preprocessing import LabelEncoder,label_binarize\n",
    "from itertools import cycle\n",
    "from sklearn.metrics import accuracy_score, confusion_matrix, classification_report,roc_curve, auc\n",
    "from sklearn.naive_bayes import MultinomialNB,ComplementNB\n",
    "from wordcloud import WordCloud\n",
    "from imblearn.over_sampling import SMOTE\n",
    "from sklearn.model_selection import GridSearchCV\n",
    "import tensorflow as tf\n",
    "from tensorflow import keras\n",
    "from imblearn.under_sampling import RandomUnderSampler\n",
    "from sklearn import svm\n",
    "from sklearn.ensemble import RandomForestClassifier\n",
    "from sklearn.linear_model import LogisticRegression\n",
    "nltk.download('stopwords',quiet=True)\n",
    "nltk.download('wordnet',quiet=True)\n",
    "nltk.download('punkt',quiet=True)"
   ]
  },
  {
   "cell_type": "code",
   "execution_count": 2,
   "metadata": {},
   "outputs": [],
   "source": [
    "#thsi code is used to hide the warning messages\n",
    "pd.options.mode.chained_assignment = None"
   ]
  },
  {
   "cell_type": "markdown",
   "metadata": {},
   "source": [
    "## Exploratory Data Analysis"
   ]
  },
  {
   "cell_type": "code",
   "execution_count": 50,
   "metadata": {},
   "outputs": [
    {
     "data": {
      "text/html": [
       "<div>\n",
       "<style scoped>\n",
       "    .dataframe tbody tr th:only-of-type {\n",
       "        vertical-align: middle;\n",
       "    }\n",
       "\n",
       "    .dataframe tbody tr th {\n",
       "        vertical-align: top;\n",
       "    }\n",
       "\n",
       "    .dataframe thead th {\n",
       "        text-align: right;\n",
       "    }\n",
       "</style>\n",
       "<table border=\"1\" class=\"dataframe\">\n",
       "  <thead>\n",
       "    <tr style=\"text-align: right;\">\n",
       "      <th></th>\n",
       "      <th>tweet_id</th>\n",
       "      <th>airline_sentiment</th>\n",
       "      <th>airline_sentiment_confidence</th>\n",
       "      <th>negativereason</th>\n",
       "      <th>negativereason_confidence</th>\n",
       "      <th>airline</th>\n",
       "      <th>airline_sentiment_gold</th>\n",
       "      <th>name</th>\n",
       "      <th>negativereason_gold</th>\n",
       "      <th>retweet_count</th>\n",
       "      <th>text</th>\n",
       "      <th>tweet_coord</th>\n",
       "      <th>tweet_created</th>\n",
       "      <th>tweet_location</th>\n",
       "      <th>user_timezone</th>\n",
       "    </tr>\n",
       "  </thead>\n",
       "  <tbody>\n",
       "    <tr>\n",
       "      <th>0</th>\n",
       "      <td>570306133677760513</td>\n",
       "      <td>neutral</td>\n",
       "      <td>1.0000</td>\n",
       "      <td>NaN</td>\n",
       "      <td>NaN</td>\n",
       "      <td>Virgin America</td>\n",
       "      <td>NaN</td>\n",
       "      <td>cairdin</td>\n",
       "      <td>NaN</td>\n",
       "      <td>0</td>\n",
       "      <td>@VirginAmerica What @dhepburn said.</td>\n",
       "      <td>NaN</td>\n",
       "      <td>2015-02-24 11:35:52 -0800</td>\n",
       "      <td>NaN</td>\n",
       "      <td>Eastern Time (US &amp; Canada)</td>\n",
       "    </tr>\n",
       "    <tr>\n",
       "      <th>1</th>\n",
       "      <td>570301130888122368</td>\n",
       "      <td>positive</td>\n",
       "      <td>0.3486</td>\n",
       "      <td>NaN</td>\n",
       "      <td>0.0000</td>\n",
       "      <td>Virgin America</td>\n",
       "      <td>NaN</td>\n",
       "      <td>jnardino</td>\n",
       "      <td>NaN</td>\n",
       "      <td>0</td>\n",
       "      <td>@VirginAmerica plus you've added commercials t...</td>\n",
       "      <td>NaN</td>\n",
       "      <td>2015-02-24 11:15:59 -0800</td>\n",
       "      <td>NaN</td>\n",
       "      <td>Pacific Time (US &amp; Canada)</td>\n",
       "    </tr>\n",
       "    <tr>\n",
       "      <th>2</th>\n",
       "      <td>570301083672813571</td>\n",
       "      <td>neutral</td>\n",
       "      <td>0.6837</td>\n",
       "      <td>NaN</td>\n",
       "      <td>NaN</td>\n",
       "      <td>Virgin America</td>\n",
       "      <td>NaN</td>\n",
       "      <td>yvonnalynn</td>\n",
       "      <td>NaN</td>\n",
       "      <td>0</td>\n",
       "      <td>@VirginAmerica I didn't today... Must mean I n...</td>\n",
       "      <td>NaN</td>\n",
       "      <td>2015-02-24 11:15:48 -0800</td>\n",
       "      <td>Lets Play</td>\n",
       "      <td>Central Time (US &amp; Canada)</td>\n",
       "    </tr>\n",
       "    <tr>\n",
       "      <th>3</th>\n",
       "      <td>570301031407624196</td>\n",
       "      <td>negative</td>\n",
       "      <td>1.0000</td>\n",
       "      <td>Bad Flight</td>\n",
       "      <td>0.7033</td>\n",
       "      <td>Virgin America</td>\n",
       "      <td>NaN</td>\n",
       "      <td>jnardino</td>\n",
       "      <td>NaN</td>\n",
       "      <td>0</td>\n",
       "      <td>@VirginAmerica it's really aggressive to blast...</td>\n",
       "      <td>NaN</td>\n",
       "      <td>2015-02-24 11:15:36 -0800</td>\n",
       "      <td>NaN</td>\n",
       "      <td>Pacific Time (US &amp; Canada)</td>\n",
       "    </tr>\n",
       "    <tr>\n",
       "      <th>4</th>\n",
       "      <td>570300817074462722</td>\n",
       "      <td>negative</td>\n",
       "      <td>1.0000</td>\n",
       "      <td>Can't Tell</td>\n",
       "      <td>1.0000</td>\n",
       "      <td>Virgin America</td>\n",
       "      <td>NaN</td>\n",
       "      <td>jnardino</td>\n",
       "      <td>NaN</td>\n",
       "      <td>0</td>\n",
       "      <td>@VirginAmerica and it's a really big bad thing...</td>\n",
       "      <td>NaN</td>\n",
       "      <td>2015-02-24 11:14:45 -0800</td>\n",
       "      <td>NaN</td>\n",
       "      <td>Pacific Time (US &amp; Canada)</td>\n",
       "    </tr>\n",
       "  </tbody>\n",
       "</table>\n",
       "</div>"
      ],
      "text/plain": [
       "             tweet_id airline_sentiment  airline_sentiment_confidence  \\\n",
       "0  570306133677760513           neutral                        1.0000   \n",
       "1  570301130888122368          positive                        0.3486   \n",
       "2  570301083672813571           neutral                        0.6837   \n",
       "3  570301031407624196          negative                        1.0000   \n",
       "4  570300817074462722          negative                        1.0000   \n",
       "\n",
       "  negativereason  negativereason_confidence         airline  \\\n",
       "0            NaN                        NaN  Virgin America   \n",
       "1            NaN                     0.0000  Virgin America   \n",
       "2            NaN                        NaN  Virgin America   \n",
       "3     Bad Flight                     0.7033  Virgin America   \n",
       "4     Can't Tell                     1.0000  Virgin America   \n",
       "\n",
       "  airline_sentiment_gold        name negativereason_gold  retweet_count  \\\n",
       "0                    NaN     cairdin                 NaN              0   \n",
       "1                    NaN    jnardino                 NaN              0   \n",
       "2                    NaN  yvonnalynn                 NaN              0   \n",
       "3                    NaN    jnardino                 NaN              0   \n",
       "4                    NaN    jnardino                 NaN              0   \n",
       "\n",
       "                                                text tweet_coord  \\\n",
       "0                @VirginAmerica What @dhepburn said.         NaN   \n",
       "1  @VirginAmerica plus you've added commercials t...         NaN   \n",
       "2  @VirginAmerica I didn't today... Must mean I n...         NaN   \n",
       "3  @VirginAmerica it's really aggressive to blast...         NaN   \n",
       "4  @VirginAmerica and it's a really big bad thing...         NaN   \n",
       "\n",
       "               tweet_created tweet_location               user_timezone  \n",
       "0  2015-02-24 11:35:52 -0800            NaN  Eastern Time (US & Canada)  \n",
       "1  2015-02-24 11:15:59 -0800            NaN  Pacific Time (US & Canada)  \n",
       "2  2015-02-24 11:15:48 -0800      Lets Play  Central Time (US & Canada)  \n",
       "3  2015-02-24 11:15:36 -0800            NaN  Pacific Time (US & Canada)  \n",
       "4  2015-02-24 11:14:45 -0800            NaN  Pacific Time (US & Canada)  "
      ]
     },
     "execution_count": 50,
     "metadata": {},
     "output_type": "execute_result"
    }
   ],
   "source": [
    "df=pd.read_csv('Tweets.csv')\n",
    "df.head()"
   ]
  },
  {
   "cell_type": "code",
   "execution_count": 51,
   "metadata": {},
   "outputs": [],
   "source": [
    "#taking tweets with confidence greater than 0.5 \n",
    "#df=df[df['airline_sentiment_confidence']>0.5]# it does not work as tweets with confidence less than 0.5 are very few\n",
    "df['airline_sentiment'].replace({'neutral':'negative'},inplace=True)\n"
   ]
  },
  {
   "cell_type": "code",
   "execution_count": 23,
   "metadata": {},
   "outputs": [
    {
     "data": {
      "text/plain": [
       "(14640, 15)"
      ]
     },
     "execution_count": 23,
     "metadata": {},
     "output_type": "execute_result"
    }
   ],
   "source": [
    "df.shape"
   ]
  },
  {
   "cell_type": "code",
   "execution_count": null,
   "metadata": {},
   "outputs": [],
   "source": [
    "df.isnull().sum()"
   ]
  },
  {
   "cell_type": "markdown",
   "metadata": {},
   "source": [
    "Require column for model don't have null values , so we are not going to fill null values."
   ]
  },
  {
   "cell_type": "code",
   "execution_count": 52,
   "metadata": {},
   "outputs": [
    {
     "data": {
      "image/png": "[encoded data removed]",
      "text/plain": [
       "<Figure size 640x480 with 1 Axes>"
      ]
     },
     "metadata": {},
     "output_type": "display_data"
    }
   ],
   "source": [
    "df_sorted = df.sort_values('airline_sentiment')\n",
    "order=['negative','neutral','positive']\n",
    "sns.countplot(x='airline_sentiment',data=df,order=order,palette='Set1')\n",
    "plt.show()"
   ]
  },
  {
   "cell_type": "markdown",
   "metadata": {},
   "source": [
    "Negative tweet count is much higher than neutral and positive"
   ]
  },
  {
   "cell_type": "code",
   "execution_count": 61,
   "metadata": {},
   "outputs": [
    {
     "data": {
      "text/html": [
       "<div>\n",
       "<style scoped>\n",
       "    .dataframe tbody tr th:only-of-type {\n",
       "        vertical-align: middle;\n",
       "    }\n",
       "\n",
       "    .dataframe tbody tr th {\n",
       "        vertical-align: top;\n",
       "    }\n",
       "\n",
       "    .dataframe thead th {\n",
       "        text-align: right;\n",
       "    }\n",
       "</style>\n",
       "<table border=\"1\" class=\"dataframe\">\n",
       "  <thead>\n",
       "    <tr style=\"text-align: right;\">\n",
       "      <th></th>\n",
       "      <th>airline_sentiment</th>\n",
       "      <th>text</th>\n",
       "    </tr>\n",
       "  </thead>\n",
       "  <tbody>\n",
       "    <tr>\n",
       "      <th>0</th>\n",
       "      <td>negative</td>\n",
       "      <td>@VirginAmerica What @dhepburn said.</td>\n",
       "    </tr>\n",
       "    <tr>\n",
       "      <th>1</th>\n",
       "      <td>positive</td>\n",
       "      <td>@VirginAmerica plus you've added commercials t...</td>\n",
       "    </tr>\n",
       "    <tr>\n",
       "      <th>2</th>\n",
       "      <td>negative</td>\n",
       "      <td>@VirginAmerica I didn't today... Must mean I n...</td>\n",
       "    </tr>\n",
       "    <tr>\n",
       "      <th>3</th>\n",
       "      <td>negative</td>\n",
       "      <td>@VirginAmerica it's really aggressive to blast...</td>\n",
       "    </tr>\n",
       "    <tr>\n",
       "      <th>4</th>\n",
       "      <td>negative</td>\n",
       "      <td>@VirginAmerica and it's a really big bad thing...</td>\n",
       "    </tr>\n",
       "  </tbody>\n",
       "</table>\n",
       "</div>"
      ],
      "text/plain": [
       "  airline_sentiment                                               text\n",
       "0          negative                @VirginAmerica What @dhepburn said.\n",
       "1          positive  @VirginAmerica plus you've added commercials t...\n",
       "2          negative  @VirginAmerica I didn't today... Must mean I n...\n",
       "3          negative  @VirginAmerica it's really aggressive to blast...\n",
       "4          negative  @VirginAmerica and it's a really big bad thing..."
      ]
     },
     "execution_count": 61,
     "metadata": {},
     "output_type": "execute_result"
    }
   ],
   "source": [
    "#selecting only columns needed for sentiment analysis\n",
    "df_sa=df[['airline_sentiment','text']]\n",
    "df_sa.head()"
   ]
  },
  {
   "cell_type": "code",
   "execution_count": 8,
   "metadata": {},
   "outputs": [
    {
     "name": "stdout",
     "output_type": "stream",
     "text": [
      "min=12,mean=104,max=186\n"
     ]
    }
   ],
   "source": [
    "tweet_leanght=df['text'].apply(len)\n",
    "print(f'min={min(tweet_leanght)},mean={round(np.mean(tweet_leanght))},max={max(tweet_leanght)}')"
   ]
  },
  {
   "cell_type": "code",
   "execution_count": 12,
   "metadata": {},
   "outputs": [],
   "source": [
    "#defining a function to clean the tweets\n",
    "def preprocessing(text):\n",
    "    #remove url\n",
    "    text=re.sub(r'http\\S+|www\\S+|https\\S+','',text,flags=re.MULTILINE)\n",
    "    #remove user @ references and '#' from tweet\n",
    "    text=re.sub(r'\\@\\w+|\\#','',text)\n",
    "    #removing every thing expect alphbets\n",
    "    text=re.sub(r'[^a-zA-Z]',' ',text)\n",
    "    \n",
    "    text=text.lower()\n",
    "    tokenized_text=word_tokenize(text)\n",
    "    \n",
    "    #remove stopwords\n",
    "    stopword=stopwords.words('english')\n",
    "    tokenized_text=[word for word in tokenized_text if word not in stopword]\n",
    "    \n",
    "    # lematizing the words\n",
    "    lem=WordNetLemmatizer()\n",
    "    tokenized_text=[lem.lemmatize(word) for word in tokenized_text]\n",
    "    \n",
    "    #using lest to diambuiguate the words\n",
    "    tokenized_text = [\n",
    "    (lesk(tokenized_text, word).lemmas()[0].name()\n",
    "    if lesk(tokenized_text, word) else word)\n",
    "    for word in tokenized_text\n",
    "    ]\n",
    "    \n",
    "    text=' '.join(tokenized_text)\n",
    "    return text"
   ]
  },
  {
   "cell_type": "code",
   "execution_count": 62,
   "metadata": {},
   "outputs": [],
   "source": [
    "df_sa['text']=df_sa['text'].apply(preprocessing)\n",
    "#df_sa.head()"
   ]
  },
  {
   "cell_type": "code",
   "execution_count": 91,
   "metadata": {},
   "outputs": [
    {
     "data": {
      "text/plain": [
       "915946"
      ]
     },
     "execution_count": 91,
     "metadata": {},
     "output_type": "execute_result"
    }
   ],
   "source": [
    "count=sum(df_sa['text'].apply(len))\n",
    "count"
   ]
  },
  {
   "cell_type": "markdown",
   "metadata": {},
   "source": [
    "### Now we will Create model for Sentiment analysis"
   ]
  },
  {
   "cell_type": "code",
   "execution_count": 97,
   "metadata": {},
   "outputs": [
    {
     "ename": "AttributeError",
     "evalue": "'numpy.ndarray' object has no attribute 'classes_'",
     "output_type": "error",
     "traceback": [
      "\u001b[1;31m---------------------------------------------------------------------------\u001b[0m",
      "\u001b[1;31mAttributeError\u001b[0m                            Traceback (most recent call last)",
      "Cell \u001b[1;32mIn[97], line 2\u001b[0m\n\u001b[0;32m      1\u001b[0m \u001b[38;5;66;03m# df_sa['airline_sentiment'].value_counts()\u001b[39;00m\n\u001b[1;32m----> 2\u001b[0m \u001b[43my\u001b[49m\u001b[38;5;241;43m.\u001b[39;49m\u001b[43mclasses_\u001b[49m\n",
      "\u001b[1;31mAttributeError\u001b[0m: 'numpy.ndarray' object has no attribute 'classes_'"
     ]
    }
   ],
   "source": [
    "df_sa['airline_sentiment'].value_counts()"
   ]
  },
  {
   "cell_type": "code",
   "execution_count": 98,
   "metadata": {},
   "outputs": [],
   "source": [
    "x=df_sa['text']\n",
    "y=df_sa['airline_sentiment']"
   ]
  },
  {
   "cell_type": "code",
   "execution_count": 99,
   "metadata": {},
   "outputs": [],
   "source": [
    "#comment tfidf for running nueral network\n",
    "# verctorizer=TfidfVectorizer(max_features=18000)\n",
    "# x=verctorizer.fit_transform(x)\n",
    "\n",
    "LabelEncoder_y=LabelEncoder()\n",
    "y=LabelEncoder_y.fit_transform(y)\n"
   ]
  },
  {
   "cell_type": "code",
   "execution_count": 95,
   "metadata": {},
   "outputs": [
    {
     "name": "stdout",
     "output_type": "stream",
     "text": [
      "negative: 0\n",
      "positive: 1\n"
     ]
    }
   ],
   "source": [
    "for index, label in enumerate(LabelEncoder_y.classes_):\n",
    "    print(f\"{label}: {index}\")"
   ]
  },
  {
   "cell_type": "markdown",
   "metadata": {},
   "source": [
    "accuracey with all preprocessing steps ,smote and complement naive bayes=79,MultinomialNB=78\n",
    "adjusting hyperparameter in cNA results by 1 point\n",
    "\n",
    "adjusting word count in tfidf improving results maybe work in progress 18000 give best results 80-81% accuracey\n",
    "\n",
    "\n",
    "accuracey when not using disambiguate is almost same\n",
    "\n",
    "changing lematize with stemer reduce accuracey\n",
    "\n",
    "Try nural network with embedding layer\n",
    "\n",
    "under sampling doesnot give better results\n",
    "\n",
    "svm = 89, randomforest 87 , LR 83 using cross gird \n",
    "\n",
    "try hyperparameter tunning with NB using cross grid\n",
    "\n",
    "22/12/2023\n",
    "taking tweets less than specific level 0.5 does not work\n",
    "converting nutral to positive increase accuracey to 82%\n",
    "\n",
    "converting nutral to positive increase accuracey to 90%,nn 88%,svm 97% but its not fair\n",
    "\n",
    "\n",
    "\n"
   ]
  },
  {
   "cell_type": "code",
   "execution_count": null,
   "metadata": {},
   "outputs": [],
   "source": [
    "# Oversample the minority classes(positive and neutral) using SMOTE\n",
    "method = SMOTE()\n",
    "\n",
    "# Create the resampled feature set\n",
    "x, y = method.fit_resample(x, y)"
   ]
  },
  {
   "cell_type": "code",
   "execution_count": 67,
   "metadata": {},
   "outputs": [],
   "source": [
    "#Eithor use this or the above code\n",
    "\n",
    "# Instantiate the RandomUnderSampler method\n",
    "undersample = RandomUnderSampler()\n",
    "\n",
    "# Create the resampled feature set\n",
    "x, y = undersample.fit_resample(x, y)"
   ]
  },
  {
   "cell_type": "code",
   "execution_count": null,
   "metadata": {},
   "outputs": [],
   "source": [
    "#use with this code for neural network as it can direclty take the text data\n",
    "from imblearn.over_sampling import RandomOverSampler\n",
    "from imblearn.under_sampling import RandomUnderSampler\n",
    "\n",
    "# Oversampling\n",
    "oversample = RandomOverSampler(sampling_strategy='minority')\n",
    "X_over, y_over = oversample.fit_resample(x, y)\n",
    "\n",
    "# # Undersampling\n",
    "# undersample = RandomUnderSampler(sampling_strategy='majority')\n",
    "# X_under, y_under = undersample.fit_resample(x, y)"
   ]
  },
  {
   "cell_type": "code",
   "execution_count": 85,
   "metadata": {},
   "outputs": [],
   "source": [
    "x_train,x_test,y_train,y_test=train_test_split(x,y,test_size=0.2,random_state=28)"
   ]
  },
  {
   "cell_type": "code",
   "execution_count": 74,
   "metadata": {},
   "outputs": [
    {
     "name": "stdout",
     "output_type": "stream",
     "text": [
      "              precision    recall  f1-score   support\n",
      "\n",
      "           0       0.92      0.88      0.90      2465\n",
      "           1       0.89      0.92      0.90      2446\n",
      "\n",
      "    accuracy                           0.90      4911\n",
      "   macro avg       0.90      0.90      0.90      4911\n",
      "weighted avg       0.90      0.90      0.90      4911\n",
      "\n"
     ]
    }
   ],
   "source": [
    "classifier=ComplementNB(alpha=0.5, fit_prior=True, class_prior=None,norm=False)\n",
    "classifier.fit(x_train,y_train)\n",
    "y_pred=classifier.predict(x_test)\n",
    "\n",
    "print(classification_report(y_test,y_pred))\n"
   ]
  },
  {
   "cell_type": "code",
   "execution_count": 75,
   "metadata": {},
   "outputs": [
    {
     "name": "stdout",
     "output_type": "stream",
     "text": [
      "              precision    recall  f1-score   support\n",
      "\n",
      "           0       0.92      0.88      0.90      2465\n",
      "           1       0.89      0.92      0.90      2446\n",
      "\n",
      "    accuracy                           0.90      4911\n",
      "   macro avg       0.90      0.90      0.90      4911\n",
      "weighted avg       0.90      0.90      0.90      4911\n",
      "\n"
     ]
    }
   ],
   "source": [
    "classifier2=MultinomialNB(alpha=0.5, fit_prior=False, class_prior=None)\n",
    "classifier2.fit(x_train,y_train)\n",
    "y_pred=classifier2.predict(x_test)\n",
    "\n",
    "print(classification_report(y_test,y_pred))"
   ]
  },
  {
   "cell_type": "code",
   "execution_count": 21,
   "metadata": {},
   "outputs": [],
   "source": [
    "def apply_model(model, params, x_train, y_train, x_test, y_test):\n",
    "    grid_search = GridSearchCV(model, params, cv=5)\n",
    "    grid_search.fit(x_train, y_train)\n",
    "    y_pred = grid_search.predict(x_test)\n",
    "    print(f\"Best parameters: {grid_search.best_params_}\")\n",
    "    print(f\"Classification report:\\n{classification_report(y_test, y_pred)}\")\n",
    "    print(f\"Accuracy: {accuracy_score(y_test, y_pred)}\\n\")"
   ]
  },
  {
   "cell_type": "code",
   "execution_count": 23,
   "metadata": {},
   "outputs": [
    {
     "name": "stdout",
     "output_type": "stream",
     "text": [
      "SVM:\n",
      "Best parameters: {'C': 10, 'kernel': 'rbf'}\n",
      "Classification report:\n",
      "              precision    recall  f1-score   support\n",
      "\n",
      "           0       0.89      0.92      0.91      1758\n",
      "           1       0.87      0.88      0.87      1915\n",
      "           2       0.93      0.88      0.91      1834\n",
      "\n",
      "    accuracy                           0.89      5507\n",
      "   macro avg       0.90      0.90      0.90      5507\n",
      "weighted avg       0.90      0.89      0.89      5507\n",
      "\n",
      "Accuracy: 0.894679498819684\n",
      "\n",
      "Random Forest:\n",
      "Best parameters: {'max_depth': None, 'n_estimators': 500}\n",
      "Classification report:\n",
      "              precision    recall  f1-score   support\n",
      "\n",
      "           0       0.87      0.84      0.86      1758\n",
      "           1       0.85      0.86      0.86      1915\n",
      "           2       0.90      0.92      0.91      1834\n",
      "\n",
      "    accuracy                           0.87      5507\n",
      "   macro avg       0.87      0.87      0.87      5507\n",
      "weighted avg       0.87      0.87      0.87      5507\n",
      "\n",
      "Accuracy: 0.8741601597966224\n",
      "\n",
      "Logistic Regression:\n"
     ]
    },
    {
     "name": "stderr",
     "output_type": "stream",
     "text": [
      "c:\\Users\\J.Abdullah\\AppData\\Local\\Programs\\Python\\Python311\\Lib\\site-packages\\sklearn\\linear_model\\_logistic.py:458: ConvergenceWarning: lbfgs failed to converge (status=1):\n",
      "STOP: TOTAL NO. of ITERATIONS REACHED LIMIT.\n",
      "\n",
      "Increase the number of iterations (max_iter) or scale the data as shown in:\n",
      "    https://scikit-learn.org/stable/modules/preprocessing.html\n",
      "Please also refer to the documentation for alternative solver options:\n",
      "    https://scikit-learn.org/stable/modules/linear_model.html#logistic-regression\n",
      "  n_iter_i = _check_optimize_result(\n",
      "c:\\Users\\J.Abdullah\\AppData\\Local\\Programs\\Python\\Python311\\Lib\\site-packages\\sklearn\\linear_model\\_logistic.py:458: ConvergenceWarning: lbfgs failed to converge (status=1):\n",
      "STOP: TOTAL NO. of ITERATIONS REACHED LIMIT.\n",
      "\n",
      "Increase the number of iterations (max_iter) or scale the data as shown in:\n",
      "    https://scikit-learn.org/stable/modules/preprocessing.html\n",
      "Please also refer to the documentation for alternative solver options:\n",
      "    https://scikit-learn.org/stable/modules/linear_model.html#logistic-regression\n",
      "  n_iter_i = _check_optimize_result(\n",
      "c:\\Users\\J.Abdullah\\AppData\\Local\\Programs\\Python\\Python311\\Lib\\site-packages\\sklearn\\linear_model\\_logistic.py:458: ConvergenceWarning: lbfgs failed to converge (status=1):\n",
      "STOP: TOTAL NO. of ITERATIONS REACHED LIMIT.\n",
      "\n",
      "Increase the number of iterations (max_iter) or scale the data as shown in:\n",
      "    https://scikit-learn.org/stable/modules/preprocessing.html\n",
      "Please also refer to the documentation for alternative solver options:\n",
      "    https://scikit-learn.org/stable/modules/linear_model.html#logistic-regression\n",
      "  n_iter_i = _check_optimize_result(\n",
      "c:\\Users\\J.Abdullah\\AppData\\Local\\Programs\\Python\\Python311\\Lib\\site-packages\\sklearn\\linear_model\\_logistic.py:458: ConvergenceWarning: lbfgs failed to converge (status=1):\n",
      "STOP: TOTAL NO. of ITERATIONS REACHED LIMIT.\n",
      "\n",
      "Increase the number of iterations (max_iter) or scale the data as shown in:\n",
      "    https://scikit-learn.org/stable/modules/preprocessing.html\n",
      "Please also refer to the documentation for alternative solver options:\n",
      "    https://scikit-learn.org/stable/modules/linear_model.html#logistic-regression\n",
      "  n_iter_i = _check_optimize_result(\n",
      "c:\\Users\\J.Abdullah\\AppData\\Local\\Programs\\Python\\Python311\\Lib\\site-packages\\sklearn\\linear_model\\_logistic.py:458: ConvergenceWarning: lbfgs failed to converge (status=1):\n",
      "STOP: TOTAL NO. of ITERATIONS REACHED LIMIT.\n",
      "\n",
      "Increase the number of iterations (max_iter) or scale the data as shown in:\n",
      "    https://scikit-learn.org/stable/modules/preprocessing.html\n",
      "Please also refer to the documentation for alternative solver options:\n",
      "    https://scikit-learn.org/stable/modules/linear_model.html#logistic-regression\n",
      "  n_iter_i = _check_optimize_result(\n",
      "c:\\Users\\J.Abdullah\\AppData\\Local\\Programs\\Python\\Python311\\Lib\\site-packages\\sklearn\\linear_model\\_logistic.py:458: ConvergenceWarning: lbfgs failed to converge (status=1):\n",
      "STOP: TOTAL NO. of ITERATIONS REACHED LIMIT.\n",
      "\n",
      "Increase the number of iterations (max_iter) or scale the data as shown in:\n",
      "    https://scikit-learn.org/stable/modules/preprocessing.html\n",
      "Please also refer to the documentation for alternative solver options:\n",
      "    https://scikit-learn.org/stable/modules/linear_model.html#logistic-regression\n",
      "  n_iter_i = _check_optimize_result(\n",
      "c:\\Users\\J.Abdullah\\AppData\\Local\\Programs\\Python\\Python311\\Lib\\site-packages\\sklearn\\linear_model\\_logistic.py:458: ConvergenceWarning: lbfgs failed to converge (status=1):\n",
      "STOP: TOTAL NO. of ITERATIONS REACHED LIMIT.\n",
      "\n",
      "Increase the number of iterations (max_iter) or scale the data as shown in:\n",
      "    https://scikit-learn.org/stable/modules/preprocessing.html\n",
      "Please also refer to the documentation for alternative solver options:\n",
      "    https://scikit-learn.org/stable/modules/linear_model.html#logistic-regression\n",
      "  n_iter_i = _check_optimize_result(\n",
      "c:\\Users\\J.Abdullah\\AppData\\Local\\Programs\\Python\\Python311\\Lib\\site-packages\\sklearn\\linear_model\\_logistic.py:458: ConvergenceWarning: lbfgs failed to converge (status=1):\n",
      "STOP: TOTAL NO. of ITERATIONS REACHED LIMIT.\n",
      "\n",
      "Increase the number of iterations (max_iter) or scale the data as shown in:\n",
      "    https://scikit-learn.org/stable/modules/preprocessing.html\n",
      "Please also refer to the documentation for alternative solver options:\n",
      "    https://scikit-learn.org/stable/modules/linear_model.html#logistic-regression\n",
      "  n_iter_i = _check_optimize_result(\n",
      "c:\\Users\\J.Abdullah\\AppData\\Local\\Programs\\Python\\Python311\\Lib\\site-packages\\sklearn\\linear_model\\_logistic.py:458: ConvergenceWarning: lbfgs failed to converge (status=1):\n",
      "STOP: TOTAL NO. of ITERATIONS REACHED LIMIT.\n",
      "\n",
      "Increase the number of iterations (max_iter) or scale the data as shown in:\n",
      "    https://scikit-learn.org/stable/modules/preprocessing.html\n",
      "Please also refer to the documentation for alternative solver options:\n",
      "    https://scikit-learn.org/stable/modules/linear_model.html#logistic-regression\n",
      "  n_iter_i = _check_optimize_result(\n",
      "c:\\Users\\J.Abdullah\\AppData\\Local\\Programs\\Python\\Python311\\Lib\\site-packages\\sklearn\\linear_model\\_logistic.py:458: ConvergenceWarning: lbfgs failed to converge (status=1):\n",
      "STOP: TOTAL NO. of ITERATIONS REACHED LIMIT.\n",
      "\n",
      "Increase the number of iterations (max_iter) or scale the data as shown in:\n",
      "    https://scikit-learn.org/stable/modules/preprocessing.html\n",
      "Please also refer to the documentation for alternative solver options:\n",
      "    https://scikit-learn.org/stable/modules/linear_model.html#logistic-regression\n",
      "  n_iter_i = _check_optimize_result(\n"
     ]
    },
    {
     "name": "stdout",
     "output_type": "stream",
     "text": [
      "Best parameters: {'C': 10}\n",
      "Classification report:\n",
      "              precision    recall  f1-score   support\n",
      "\n",
      "           0       0.88      0.80      0.84      1758\n",
      "           1       0.78      0.86      0.82      1915\n",
      "           2       0.87      0.85      0.86      1834\n",
      "\n",
      "    accuracy                           0.84      5507\n",
      "   macro avg       0.84      0.84      0.84      5507\n",
      "weighted avg       0.84      0.84      0.84      5507\n",
      "\n",
      "Accuracy: 0.8378427455965135\n",
      "\n"
     ]
    },
    {
     "name": "stderr",
     "output_type": "stream",
     "text": [
      "c:\\Users\\J.Abdullah\\AppData\\Local\\Programs\\Python\\Python311\\Lib\\site-packages\\sklearn\\linear_model\\_logistic.py:458: ConvergenceWarning: lbfgs failed to converge (status=1):\n",
      "STOP: TOTAL NO. of ITERATIONS REACHED LIMIT.\n",
      "\n",
      "Increase the number of iterations (max_iter) or scale the data as shown in:\n",
      "    https://scikit-learn.org/stable/modules/preprocessing.html\n",
      "Please also refer to the documentation for alternative solver options:\n",
      "    https://scikit-learn.org/stable/modules/linear_model.html#logistic-regression\n",
      "  n_iter_i = _check_optimize_result(\n"
     ]
    }
   ],
   "source": [
    "# SVM\n",
    "print(\"SVM:\")\n",
    "apply_model(svm.SVC(), {'C': [0.1, 1, 10], 'kernel': ['linear', 'rbf']}, x_train, y_train, x_test, y_test)\n",
    "\n",
    "# Random Forest\n",
    "print(\"Random Forest:\")\n",
    "apply_model(RandomForestClassifier(), {'n_estimators': [100, 200, 500], 'max_depth': [None, 10, 20, 30]}, x_train, y_train, x_test, y_test)\n",
    "\n",
    "# Logistic Regression\n",
    "print(\"Logistic Regression:\") \n",
    "apply_model(LogisticRegression(), {'C': [0.1, 1, 10]}, x_train, y_train, x_test, y_test)"
   ]
  },
  {
   "cell_type": "code",
   "execution_count": 78,
   "metadata": {},
   "outputs": [
    {
     "name": "stdout",
     "output_type": "stream",
     "text": [
      "              precision    recall  f1-score   support\n",
      "\n",
      "           0       0.98      0.97      0.97      2465\n",
      "           1       0.97      0.98      0.97      2446\n",
      "\n",
      "    accuracy                           0.97      4911\n",
      "   macro avg       0.97      0.97      0.97      4911\n",
      "weighted avg       0.97      0.97      0.97      4911\n",
      "\n"
     ]
    }
   ],
   "source": [
    "classifier3=svm.SVC(C=10,kernel='rbf')\n",
    "classifier3.fit(x_train,y_train)\n",
    "y_pred=classifier3.predict(x_test)\n",
    "\n",
    "print(classification_report(y_test,y_pred))"
   ]
  },
  {
   "cell_type": "code",
   "execution_count": 100,
   "metadata": {},
   "outputs": [],
   "source": [
    "#Creating Tokenizer\n",
    "tokenizer =keras.preprocessing.text.Tokenizer(num_words=18000)\n",
    "tokenizer.fit_on_texts(x_train)\n",
    "\n",
    "#Converting text to sequence integers\n",
    "X_train=tokenizer.texts_to_sequences(x_train)\n",
    "X_test=tokenizer.texts_to_sequences(x_test)\n",
    "\n",
    "# Pad sequences to ensure they have the same length\n",
    "max_sequence_length=100\n",
    "X_train=keras.preprocessing.sequence.pad_sequences(X_train,maxlen=max_sequence_length, padding='post', truncating='post')\n",
    "X_test=keras.preprocessing.sequence.pad_sequences(X_test, maxlen=max_sequence_length, padding='post', truncating='post')"
   ]
  },
  {
   "cell_type": "code",
   "execution_count": 101,
   "metadata": {},
   "outputs": [],
   "source": [
    "#creating nureal network\n",
    "#Embedding layer used to learn and represent words or categorical data in a continuous, lower-dimensional space especially used in NLP.\n",
    "model = keras.Sequential([\n",
    "    keras.layers.Embedding(input_dim=18000, output_dim=32),\n",
    "    keras.layers.GlobalAveragePooling1D(),\n",
    "    keras.layers.Dense(64, activation='relu'),\n",
    "    keras.layers.Dropout(0.5),\n",
    "    keras.layers.Dense(32, activation='relu'),\n",
    "    keras.layers.Dropout(0.5),\n",
    "    keras.layers.Dense(1, activation='sigmoid')\n",
    "])\n",
    "\n",
    "model.compile(optimizer=keras.optimizers.Adam(learning_rate=0.001), \n",
    "              loss='binary_crossentropy', \n",
    "              metrics=['accuracy'])\n",
    "\n",
    "\n",
    "#Binary Cross-Entropy = - [y * log(p) + (1 - y) * log(1 - p)] >>y true label(0,1) , p is predicted probability\n",
    "#This loss function is used for binary classification especially with sigmoid"
   ]
  },
  {
   "cell_type": "code",
   "execution_count": 102,
   "metadata": {},
   "outputs": [
    {
     "name": "stdout",
     "output_type": "stream",
     "text": [
      "Epoch 1/20\n",
      "366/366 [==============================] - 7s 16ms/step - loss: 1.5842 - accuracy: 0.1744 - val_loss: 0.8938 - val_accuracy: 0.1653\n",
      "Epoch 2/20\n",
      "366/366 [==============================] - 6s 15ms/step - loss: 1.2395 - accuracy: 0.4754 - val_loss: 0.5513 - val_accuracy: 0.7145\n",
      "Epoch 3/20\n",
      "366/366 [==============================] - 6s 16ms/step - loss: 0.8242 - accuracy: 0.7876 - val_loss: 0.3934 - val_accuracy: 0.8186\n",
      "Epoch 4/20\n",
      "366/366 [==============================] - 7s 20ms/step - loss: 0.7047 - accuracy: 0.8375 - val_loss: 0.3544 - val_accuracy: 0.8470\n",
      "Epoch 5/20\n",
      "366/366 [==============================] - 6s 16ms/step - loss: 0.6049 - accuracy: 0.8682 - val_loss: 0.5340 - val_accuracy: 0.7742\n",
      "Epoch 6/20\n",
      "366/366 [==============================] - 8s 21ms/step - loss: 0.5331 - accuracy: 0.8841 - val_loss: 0.5859 - val_accuracy: 0.7702\n",
      "Epoch 7/20\n",
      "366/366 [==============================] - 6s 17ms/step - loss: 0.4831 - accuracy: 0.8991 - val_loss: 0.4829 - val_accuracy: 0.8064\n",
      "Epoch 8/20\n",
      "366/366 [==============================] - 7s 18ms/step - loss: 0.4265 - accuracy: 0.9121 - val_loss: 0.3542 - val_accuracy: 0.8589\n",
      "Epoch 9/20\n",
      "366/366 [==============================] - 8s 21ms/step - loss: 0.3949 - accuracy: 0.9205 - val_loss: 0.3377 - val_accuracy: 0.8788\n",
      "Epoch 10/20\n",
      "366/366 [==============================] - 7s 20ms/step - loss: 0.3623 - accuracy: 0.9301 - val_loss: 0.4370 - val_accuracy: 0.8279\n",
      "Epoch 11/20\n",
      "366/366 [==============================] - 6s 16ms/step - loss: 0.3394 - accuracy: 0.9301 - val_loss: 0.3583 - val_accuracy: 0.8774\n",
      "Epoch 12/20\n",
      "366/366 [==============================] - 6s 15ms/step - loss: 0.3320 - accuracy: 0.9296 - val_loss: 0.3651 - val_accuracy: 0.8757\n",
      "Epoch 13/20\n",
      "366/366 [==============================] - 6s 16ms/step - loss: 0.3047 - accuracy: 0.9321 - val_loss: 0.4028 - val_accuracy: 0.8627\n",
      "Epoch 14/20\n",
      "366/366 [==============================] - 6s 16ms/step - loss: 0.2849 - accuracy: 0.9374 - val_loss: 0.4511 - val_accuracy: 0.8521\n",
      "Epoch 15/20\n",
      "366/366 [==============================] - 5s 15ms/step - loss: 0.2456 - accuracy: 0.9467 - val_loss: 0.5357 - val_accuracy: 0.8525\n",
      "Epoch 16/20\n",
      "366/366 [==============================] - 6s 15ms/step - loss: 0.2599 - accuracy: 0.9442 - val_loss: 0.4957 - val_accuracy: 0.8624\n",
      "Epoch 17/20\n",
      "366/366 [==============================] - 5s 15ms/step - loss: 0.2258 - accuracy: 0.9491 - val_loss: 0.5266 - val_accuracy: 0.8610\n",
      "Epoch 18/20\n",
      "366/366 [==============================] - 5s 15ms/step - loss: 0.2293 - accuracy: 0.9478 - val_loss: 0.5333 - val_accuracy: 0.8603\n",
      "Epoch 19/20\n",
      "366/366 [==============================] - 6s 17ms/step - loss: 0.2137 - accuracy: 0.9523 - val_loss: 0.5324 - val_accuracy: 0.8706\n",
      "Epoch 20/20\n",
      "366/366 [==============================] - 7s 18ms/step - loss: 0.2144 - accuracy: 0.9482 - val_loss: 0.5547 - val_accuracy: 0.8859\n"
     ]
    },
    {
     "data": {
      "text/plain": [
       "<keras.callbacks.History at 0x1498c1e5d50>"
      ]
     },
     "execution_count": 102,
     "metadata": {},
     "output_type": "execute_result"
    }
   ],
   "source": [
    "model.fit(X_train,y_train,epochs=20,validation_data=(X_test,y_test),class_weight={0: 1, 1: 10})"
   ]
  },
  {
   "cell_type": "code",
   "execution_count": 103,
   "metadata": {},
   "outputs": [
    {
     "name": "stdout",
     "output_type": "stream",
     "text": [
      "92/92 [==============================] - 0s 2ms/step - loss: 0.5547 - accuracy: 0.8859\n",
      "Test Accuracy: 0.8859289884567261\n"
     ]
    }
   ],
   "source": [
    "test_loss, test_accuracy = model.evaluate(X_test, y_test)\n",
    "print(\"Test Accuracy:\", test_accuracy)"
   ]
  },
  {
   "cell_type": "code",
   "execution_count": 159,
   "metadata": {},
   "outputs": [],
   "source": [
    "def predict_sentiment(text):\n",
    "    text=preprocessing(text)\n",
    "    text=verctorizer.transform([text])\n",
    "    sentiment=classifier.predict(text)\n",
    "    sentiment=LabelEncoder_y.inverse_transform(sentiment)\n",
    "    return sentiment"
   ]
  },
  {
   "cell_type": "code",
   "execution_count": 168,
   "metadata": {},
   "outputs": [],
   "source": [
    "def plot_probabilities(text):\n",
    "    text=preprocessing(text)\n",
    "    text=verctorizer.transform([text])\n",
    "    probabilities=classifier.predict_proba(text)\n",
    "    labels = LabelEncoder_y.classes_\n",
    "    index = np.arange(len(labels))\n",
    "    plt.bar(index, probabilities[0])\n",
    "    plt.xlabel('Class')\n",
    "    plt.ylabel('Probability')\n",
    "    plt.xticks(index, labels, rotation=30)\n",
    "    plt.title('Probability of Each Class')\n",
    "    plt.show()"
   ]
  },
  {
   "cell_type": "code",
   "execution_count": 172,
   "metadata": {},
   "outputs": [
    {
     "data": {
      "image/png": "[encoded data removed]",
      "text/plain": [
       "<Figure size 640x480 with 1 Axes>"
      ]
     },
     "metadata": {},
     "output_type": "display_data"
    },
    {
     "name": "stdout",
     "output_type": "stream",
     "text": [
      "None\n"
     ]
    }
   ],
   "source": [
    "text=\"@virginamerica Well, I didn'tâ€¦but NOW I DO! :-D\"\n",
    "print(plot_probabilities(text))"
   ]
  }
 ],
 "metadata": {
  "kernelspec": {
   "display_name": "Python 3",
   "language": "python",
   "name": "python3"
  },
  "language_info": {
   "codemirror_mode": {
    "name": "ipython",
    "version": 3
   },
   "file_extension": ".py",
   "mimetype": "text/x-python",
   "name": "python",
   "nbconvert_exporter": "python",
   "pygments_lexer": "ipython3",
   "version": "3.11.1"
  }
 },
 "nbformat": 4,
 "nbformat_minor": 2
}
